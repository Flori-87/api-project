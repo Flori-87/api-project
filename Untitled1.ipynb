{
 "cells": [
  {
   "cell_type": "code",
   "execution_count": 1,
   "metadata": {},
   "outputs": [],
   "source": [
    "import requests"
   ]
  },
  {
   "cell_type": "code",
   "execution_count": 12,
   "metadata": {},
   "outputs": [
    {
     "data": {
      "text/plain": [
       "{'status': 'An user with this name already exists with the ID 5eaed4d1107f94c4d7f71b09. If you want to create a different user, please, change the user name',\n",
       " 'status code': '?'}"
      ]
     },
     "execution_count": 12,
     "metadata": {},
     "output_type": "execute_result"
    }
   ],
   "source": [
    "requests.get(\"http://localhost:3500/user/create/Lisa\").json()"
   ]
  },
  {
   "cell_type": "code",
   "execution_count": 13,
   "metadata": {},
   "outputs": [
    {
     "data": {
      "text/plain": [
       "{'status': 'A chat with that name already exists with the ID 5eaed756b64d8c8e0f55e2d7. To insert an user in it,please, use:/chat/<chatID>/adduser/<userID>',\n",
       " 'status code': '?'}"
      ]
     },
     "execution_count": 13,
     "metadata": {},
     "output_type": "execute_result"
    }
   ],
   "source": [
    "requests.get(\"http://localhost:3500/chat/create/Accident?users=5eaed4d1107f94c4d7f71b09\").json()"
   ]
  },
  {
   "cell_type": "code",
   "execution_count": 14,
   "metadata": {},
   "outputs": [
    {
     "data": {
      "text/plain": [
       "{'status': 'This user is already in this chat', 'status code': '?'}"
      ]
     },
     "execution_count": 14,
     "metadata": {},
     "output_type": "execute_result"
    }
   ],
   "source": [
    "requests.get(\"http://localhost:3500/chat/5eaed756b64d8c8e0f55e2d7/adduser?userID=5eaed5fab64d8c8e0f55e2d6\").json()"
   ]
  },
  {
   "cell_type": "code",
   "execution_count": 15,
   "metadata": {},
   "outputs": [
    {
     "data": {
      "text/plain": [
       "{'status': 'This message from this user at that date-time is already in this chat with the ID 5eaedc015fe9558341322072',\n",
       " 'status code': '?'}"
      ]
     },
     "execution_count": 15,
     "metadata": {},
     "output_type": "execute_result"
    }
   ],
   "source": [
    "chatID = \"5eaed756b64d8c8e0f55e2d7\"\n",
    "url = f\"http://localhost:3500/chat/{chatID}/addmessage?\"\n",
    "query_params = {\"userID\":\"5eaed4d1107f94c4d7f71b09\",\"date\":\"2017-08-02 19:05\", \"text\": \"Peter, please I need your help\"}\n",
    "requests.get(url, params = query_params).json()"
   ]
  },
  {
   "cell_type": "code",
   "execution_count": 16,
   "metadata": {},
   "outputs": [
    {
     "data": {
      "text/plain": [
       "{'status': 'This message from this user at that date-time is already in this chat with the ID 5eaedc015fe9558341322072',\n",
       " 'status code': '?'}"
      ]
     },
     "execution_count": 16,
     "metadata": {},
     "output_type": "execute_result"
    }
   ],
   "source": [
    "chatID = \"5eaed756b64d8c8e0f55e2d7\"\n",
    "url = f\"http://localhost:3500/chat/{chatID}/addmessage?\"\n",
    "query_params = {\"userID\":\"5eaed4d1107f94c4d7f71b09\",\"date\":\"2017-08-02 19:05\", \"text\": \"Peter, please I need your help\"}\n",
    "requests.get(url, params = query_params).json()"
   ]
  },
  {
   "cell_type": "code",
   "execution_count": 17,
   "metadata": {},
   "outputs": [
    {
     "data": {
      "text/plain": [
       "{'top_friends': ['5eae6fd4f93ca9b972ebdf38',\n",
       "  '5eae6df0f93ca9b972ebdf35',\n",
       "  '5eae6f03f93ca9b972ebdf37']}"
      ]
     },
     "execution_count": 17,
     "metadata": {},
     "output_type": "execute_result"
    }
   ],
   "source": [
    "requests.get(\"http://localhost:3500/user/5eaed4d1107f94c4d7f71b09/recommend\").json()"
   ]
  },
  {
   "cell_type": "code",
   "execution_count": 18,
   "metadata": {},
   "outputs": [
    {
     "data": {
      "text/plain": [
       "{'status': 'No user exists with that name in the database.'}"
      ]
     },
     "execution_count": 18,
     "metadata": {},
     "output_type": "execute_result"
    }
   ],
   "source": [
    "requests.get(\"http://localhost:3500/user/Family\").json()"
   ]
  },
  {
   "cell_type": "code",
   "execution_count": null,
   "metadata": {},
   "outputs": [],
   "source": []
  },
  {
   "cell_type": "code",
   "execution_count": null,
   "metadata": {},
   "outputs": [],
   "source": []
  }
 ],
 "metadata": {
  "kernelspec": {
   "display_name": "Python 3",
   "language": "python",
   "name": "python3"
  },
  "language_info": {
   "codemirror_mode": {
    "name": "ipython",
    "version": 3
   },
   "file_extension": ".py",
   "mimetype": "text/x-python",
   "name": "python",
   "nbconvert_exporter": "python",
   "pygments_lexer": "ipython3",
   "version": "3.7.5"
  }
 },
 "nbformat": 4,
 "nbformat_minor": 4
}
