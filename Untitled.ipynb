{
 "cells": [
  {
   "cell_type": "code",
   "execution_count": 46,
   "metadata": {},
   "outputs": [],
   "source": [
    "import requests"
   ]
  },
  {
   "cell_type": "code",
   "execution_count": 62,
   "metadata": {},
   "outputs": [
    {
     "data": {
      "text/plain": [
       "{'{\"$oid\": \"5ead3343a58799e03572cc4a\"}': ['Como estas',\n",
       "  '2018-05-12 00:15',\n",
       "  '{\"$oid\": \"5eaaf4521c2b354ee19d2be0\"}',\n",
       "  {'compound': 0.0, 'neg': 0.0, 'neu': 1.0, 'pos': 0.0}],\n",
       " '{\"$oid\": \"5ead466f4ad1e4730709f34b\"}': ['holiiii',\n",
       "  '2018-05-12 00:15',\n",
       "  '{\"$oid\": \"5eaaf4521c2b354ee19d2be0\"}',\n",
       "  {'compound': 0.0, 'neg': 0.0, 'neu': 1.0, 'pos': 0.0}],\n",
       " '{\"$oid\": \"5ead47cd4ad1e4730709f34c\"}': ['Como estas',\n",
       "  '2018-05-12 00:20',\n",
       "  '{\"$oid\": \"5eaaf4521c2b354ee19d2be0\"}',\n",
       "  {'compound': 0.0, 'neg': 0.0, 'neu': 1.0, 'pos': 0.0}]}"
      ]
     },
     "execution_count": 62,
     "metadata": {},
     "output_type": "execute_result"
    }
   ],
   "source": [
    "requests.get(\"http://localhost:3500/chat/5eac3a2bce21ec847fd2147a/sentiment\").json()"
   ]
  },
  {
   "cell_type": "code",
   "execution_count": 135,
   "metadata": {},
   "outputs": [
    {
     "data": {
      "text/plain": [
       "{'all': ['{\"$oid\": \"5eaafaff268533859cc2897f\"}',\n",
       "  '{\"$oid\": \"5eab0210711f61529052d3c0\"}',\n",
       "  '{\"$oid\": \"5eab0352b76ae035c17126ec\"}',\n",
       "  '{\"$oid\": \"5eab054d54cf41a8cf250463\"}',\n",
       "  '{\"$oid\": \"5eab063a07c7c06cdffc707e\"}',\n",
       "  '{\"$oid\": \"5eab06c626f2941384ea0510\"}',\n",
       "  '{\"$oid\": \"5eab0bfdd58641ead2e6a9a1\"}',\n",
       "  '{\"$oid\": \"5eab0c93f3df4a593f7a9085\"}',\n",
       "  '{\"$oid\": \"5eab0d7a065219f8e6a32eb8\"}',\n",
       "  '{\"$oid\": \"5eab0d91065219f8e6a32eb9\"}',\n",
       "  '{\"$oid\": \"5eac0a992700e3abff4d9926\"}',\n",
       "  '{\"$oid\": \"5eac0a9c2700e3abff4d9927\"}',\n",
       "  '{\"$oid\": \"5eac265a38a8878387f1fcbd\"}',\n",
       "  '{\"$oid\": \"5eac2b5c7c8a92432f6a7710\"}',\n",
       "  '{\"$oid\": \"5eac2c0d5e51d25675007458\"}',\n",
       "  '{\"$oid\": \"5eac2c425e51d25675007459\"}',\n",
       "  '{\"$oid\": \"5eac2cb783d53349d089b8e4\"}',\n",
       "  '{\"$oid\": \"5eac2cda83d53349d089b8e5\"}',\n",
       "  '{\"$oid\": \"5eac2e2f796b820314aedb57\"}',\n",
       "  '{\"$oid\": \"5eac2ef07ae85482ab8176c5\"}',\n",
       "  '{\"$oid\": \"5eac3296067380e91ef83656\"}',\n",
       "  '{\"$oid\": \"5eac32ee9f38be4dd5f97171\"}',\n",
       "  '{\"$oid\": \"5eac32f39f38be4dd5f97172\"}',\n",
       "  '{\"$oid\": \"5eac3410c000e406d25ed549\"}',\n",
       "  '{\"$oid\": \"5eac3a2bce21ec847fd2147a\"}',\n",
       "  '{\"$oid\": \"5eac3a5064f6fd7921857fd4\"}',\n",
       "  '{\"$oid\": \"5eac3a5b64f6fd7921857fd5\"}',\n",
       "  '{\"$oid\": \"5eac3adc6d8d8af52a060c83\"}',\n",
       "  '{\"$oid\": \"5eac3af96d8d8af52a060c84\"}',\n",
       "  '{\"$oid\": \"5eac4928932dd967af115caa\"}'],\n",
       " 'not_user': ['{\"$oid\": \"5eaafaff268533859cc2897f\"}',\n",
       "  '{\"$oid\": \"5eab0210711f61529052d3c0\"}',\n",
       "  '{\"$oid\": \"5eab0352b76ae035c17126ec\"}',\n",
       "  '{\"$oid\": \"5eab054d54cf41a8cf250463\"}',\n",
       "  '{\"$oid\": \"5eab063a07c7c06cdffc707e\"}',\n",
       "  '{\"$oid\": \"5eab06c626f2941384ea0510\"}',\n",
       "  '{\"$oid\": \"5eab0bfdd58641ead2e6a9a1\"}',\n",
       "  '{\"$oid\": \"5eab0c93f3df4a593f7a9085\"}',\n",
       "  '{\"$oid\": \"5eab0d7a065219f8e6a32eb8\"}',\n",
       "  '{\"$oid\": \"5eab0d91065219f8e6a32eb9\"}',\n",
       "  '{\"$oid\": \"5eac0a992700e3abff4d9926\"}',\n",
       "  '{\"$oid\": \"5eac0a9c2700e3abff4d9927\"}',\n",
       "  '{\"$oid\": \"5eac265a38a8878387f1fcbd\"}',\n",
       "  '{\"$oid\": \"5eac2b5c7c8a92432f6a7710\"}',\n",
       "  '{\"$oid\": \"5eac2c0d5e51d25675007458\"}',\n",
       "  '{\"$oid\": \"5eac2c425e51d25675007459\"}',\n",
       "  '{\"$oid\": \"5eac2cb783d53349d089b8e4\"}',\n",
       "  '{\"$oid\": \"5eac2cda83d53349d089b8e5\"}',\n",
       "  '{\"$oid\": \"5eac2e2f796b820314aedb57\"}',\n",
       "  '{\"$oid\": \"5eac2ef07ae85482ab8176c5\"}',\n",
       "  '{\"$oid\": \"5eac3296067380e91ef83656\"}',\n",
       "  '{\"$oid\": \"5eac32ee9f38be4dd5f97171\"}',\n",
       "  '{\"$oid\": \"5eac32f39f38be4dd5f97172\"}',\n",
       "  '{\"$oid\": \"5eac3410c000e406d25ed549\"}',\n",
       "  '{\"$oid\": \"5eac3a5064f6fd7921857fd4\"}',\n",
       "  '{\"$oid\": \"5eac3a5b64f6fd7921857fd5\"}',\n",
       "  '{\"$oid\": \"5eac3adc6d8d8af52a060c83\"}',\n",
       "  '{\"$oid\": \"5eac3af96d8d8af52a060c84\"}',\n",
       "  '{\"$oid\": \"5eac4928932dd967af115caa\"}'],\n",
       " 'user': ['{\"$oid\": \"5eac3a2bce21ec847fd2147a\"}']}"
      ]
     },
     "execution_count": 135,
     "metadata": {},
     "output_type": "execute_result"
    }
   ],
   "source": [
    "requests.get(\"http://localhost:3500/user/5eaaf4521c2b354ee19d2be0/recommend\").json()"
   ]
  },
  {
   "cell_type": "code",
   "execution_count": 9,
   "metadata": {},
   "outputs": [],
   "source": [
    "from pymongo import MongoClient\n",
    "from bson.objectid import ObjectId\n",
    "client = MongoClient(\"mongodb://localhost/api_project\")\n",
    "db = client.get_database()"
   ]
  },
  {
   "cell_type": "code",
   "execution_count": 19,
   "metadata": {},
   "outputs": [],
   "source": [
    "message = db.messages.find({'chat.$id':  ObjectId(\"5eac3a2bce21ec847fd2147a\")},{\"text\":1,\"date-time\":1,'user.$id':1})"
   ]
  },
  {
   "cell_type": "code",
   "execution_count": 20,
   "metadata": {},
   "outputs": [],
   "source": [
    "dict_messages={}\n",
    "for mes in message:\n",
    "    dict_messages[mes[\"_id\"]] = [mes[\"text\"],mes[\"date-time\"],mes[\"user\"][\"$id\"]]"
   ]
  },
  {
   "cell_type": "code",
   "execution_count": 21,
   "metadata": {},
   "outputs": [
    {
     "data": {
      "text/plain": [
       "{ObjectId('5ead3343a58799e03572cc4a'): ['Como estas',\n",
       "  '2018-05-12 00:15',\n",
       "  ObjectId('5eaaf4521c2b354ee19d2be0')],\n",
       " ObjectId('5ead466f4ad1e4730709f34b'): ['holiiii',\n",
       "  '2018-05-12 00:15',\n",
       "  ObjectId('5eaaf4521c2b354ee19d2be0')],\n",
       " ObjectId('5ead47cd4ad1e4730709f34c'): ['Como estas',\n",
       "  '2018-05-12 00:20',\n",
       "  ObjectId('5eaaf4521c2b354ee19d2be0')]}"
      ]
     },
     "execution_count": 21,
     "metadata": {},
     "output_type": "execute_result"
    }
   ],
   "source": [
    "dict_messages"
   ]
  },
  {
   "cell_type": "code",
   "execution_count": null,
   "metadata": {},
   "outputs": [],
   "source": []
  }
 ],
 "metadata": {
  "kernelspec": {
   "display_name": "Python 3",
   "language": "python",
   "name": "python3"
  },
  "language_info": {
   "codemirror_mode": {
    "name": "ipython",
    "version": 3
   },
   "file_extension": ".py",
   "mimetype": "text/x-python",
   "name": "python",
   "nbconvert_exporter": "python",
   "pygments_lexer": "ipython3",
   "version": "3.7.5"
  }
 },
 "nbformat": 4,
 "nbformat_minor": 4
}
